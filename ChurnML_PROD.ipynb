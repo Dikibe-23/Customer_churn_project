{
 "cells": [
  {
   "cell_type": "code",
   "execution_count": 42,
   "id": "78d8a2c8-5f49-482c-9934-5b2ab87b5803",
   "metadata": {},
   "outputs": [
    {
     "name": "stdout",
     "output_type": "stream",
     "text": [
      "Overwriting app.py\n"
     ]
    }
   ],
   "source": [
    "%%writefile app.py\n",
    "\n",
    "from flask import Flask,request,jsonify, render_template\n",
    "import joblib\n",
    "import pickle\n",
    "import json\n",
    "import pandas as pd\n",
    "import numpy as np\n",
    "from sklearn.ensemble import RandomForestClassifier\n",
    "\n",
    "# Initialize a flask pp\n",
    "app = Flask(__name__)\n",
    "\n",
    "rf_model = pickle.load(open('model.pkl', 'rb'))\n",
    "# Open the model\n",
    "#model = open('rf_model.pkl', 'rb')\n",
    "    \n",
    "# Load the model\n",
    "#rf_model = joblib.load(model)\n",
    "\n",
    "# Map URL to function\n",
    "@app.route(\"/\")\n",
    "\n",
    "# Index function mapping to index.html\n",
    "def home():\n",
    "    return render_template('template.html')\n",
    "    \n",
    "# Map predict.html to predict function\n",
    "@app.route('/predict', methods=['GET', 'POST'])\n",
    "\n",
    "def predict():\n",
    "    \n",
    "    int_feat = [int(x) for x in request.form.values()]\n",
    "    \n",
    "    final_features = np.array(int_feat, dtype=np.float32).reshape(1,27)\n",
    "    \n",
    "    # Make prediction.\n",
    "    prediction = rf_model.predict(final_features)\n",
    "    prediction_value = prediction[0]\n",
    "        \n",
    "    if int(prediction_value) == 1:\n",
    "        prediction = 'Churned'\n",
    "        \n",
    "    else:\n",
    "        prediction = 'Stayed'\n",
    "            \n",
    "    return render_template('result.html', prediction=prediction)\n",
    "    \n",
    "    #to_predict_list = [gender, age_category, married, state, number_of_referals_group, tenure, value_deal, phone_service, \n",
    "                   # multiple_lines, internet_service, contract, paperless_billing, payment_method, internet_type_fill,\n",
    "                    #online_security_fill, online_backup_fill, device_protection_plan_fill, premium_support_fill, \n",
    "                    #streaming_tv_fill, streaming_movies_fill, streaming_music_fill, unlimited_data_fill, monthly_charge,\n",
    "                    #total_charges, total_refunds, total_extra_data_charges, total_long_distance_charges, total_revenue]\n",
    "    \n",
    "if __name__ == '__main__':\n",
    "    app.run(host='0.0.0.0', port=5000, debug=True)"
   ]
  },
  {
   "cell_type": "code",
   "execution_count": null,
   "id": "37b308f3-216d-46c6-9cd1-82b99301f674",
   "metadata": {},
   "outputs": [],
   "source": []
  },
  {
   "cell_type": "code",
   "execution_count": null,
   "id": "78f5c7ae-9bd3-466e-9e36-bb2fd31e1c90",
   "metadata": {},
   "outputs": [],
   "source": []
  }
 ],
 "metadata": {
  "kernelspec": {
   "display_name": "Python 3 (ipykernel)",
   "language": "python",
   "name": "python3"
  },
  "language_info": {
   "codemirror_mode": {
    "name": "ipython",
    "version": 3
   },
   "file_extension": ".py",
   "mimetype": "text/x-python",
   "name": "python",
   "nbconvert_exporter": "python",
   "pygments_lexer": "ipython3",
   "version": "3.11.5"
  }
 },
 "nbformat": 4,
 "nbformat_minor": 5
}
